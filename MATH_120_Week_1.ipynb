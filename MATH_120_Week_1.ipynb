{
  "nbformat": 4,
  "nbformat_minor": 0,
  "metadata": {
    "colab": {
      "provenance": []
    },
    "kernelspec": {
      "name": "python3",
      "display_name": "Python 3"
    },
    "language_info": {
      "name": "python"
    }
  },
  "cells": [
    {
      "cell_type": "code",
      "execution_count": null,
      "metadata": {
        "id": "KVMXArsPfBqm"
      },
      "outputs": [],
      "source": []
    },
    {
      "cell_type": "markdown",
      "source": [
        "# MATH 120 - Week 1 Notebook"
      ],
      "metadata": {
        "id": "ba9pDok0oxDr"
      }
    },
    {
      "cell_type": "markdown",
      "source": [
        "## Intro to Python Programming"
      ],
      "metadata": {
        "id": "8pL_c8MrpSRY"
      }
    },
    {
      "cell_type": "markdown",
      "source": [
        "This is a markdown/text cell.\n",
        "Here is an example of using **LaTeX**.\n",
        "$$2x+1=3$$\n",
        "$$x=1.$$\n",
        "Yay! 🙂 and\n",
        "\n",
        "> This is a block quote\n",
        "\n"
      ],
      "metadata": {
        "id": "Na-UAkdvsMt_"
      }
    },
    {
      "cell_type": "code",
      "source": [
        "# arithmetic examples\n",
        "12 +12 # addition\n",
        "12 * 13 # multiplication\n",
        "25 / 5 # division"
      ],
      "metadata": {
        "id": "B4mDbGHZr1qo"
      },
      "execution_count": null,
      "outputs": []
    },
    {
      "cell_type": "code",
      "source": [
        "# exponentiation\n",
        "5**3\n",
        "\n",
        "# modular division (the remainder after dividing by the second number)"
      ],
      "metadata": {
        "id": "NHfOprkGr_R0"
      },
      "execution_count": null,
      "outputs": []
    },
    {
      "cell_type": "code",
      "source": [
        "# order of operations: PEMDAS\n",
        "(2+4) ** 2"
      ],
      "metadata": {
        "id": "XzbeRA-csftP"
      },
      "execution_count": null,
      "outputs": []
    },
    {
      "cell_type": "markdown",
      "source": [
        "# arithmetic functions\n",
        "round(12.5) #.5 or down rounds down\n",
        "round(12.50000001) #greater than 0.5 rounds up\n",
        "# other functions: abs(), sum(),"
      ],
      "metadata": {
        "id": "0lGncYpRsmZV"
      }
    },
    {
      "cell_type": "code",
      "source": [
        "# functions in python are of the form: function()\n",
        "# arguments are separated by commas\n",
        "help(round) # this will tell us about the round() function"
      ],
      "metadata": {
        "colab": {
          "base_uri": "https://localhost:8080/"
        },
        "id": "ZWniRLgMMUnY",
        "outputId": "5aed290f-892c-446a-f66c-8492118417d6"
      },
      "execution_count": null,
      "outputs": [
        {
          "output_type": "stream",
          "name": "stdout",
          "text": [
            "Help on built-in function round in module builtins:\n",
            "\n",
            "round(number, ndigits=None)\n",
            "    Round a number to a given precision in decimal digits.\n",
            "\n",
            "    The return value is an integer if ndigits is omitted or None.  Otherwise\n",
            "    the return value has the same type as the number.  ndigits may be negative.\n",
            "\n"
          ]
        }
      ]
    },
    {
      "cell_type": "code",
      "source": [
        "round(0.50)"
      ],
      "metadata": {
        "colab": {
          "base_uri": "https://localhost:8080/"
        },
        "id": "SXzlmy5eMl_5",
        "outputId": "26da91d3-f72c-466d-b2cd-8d57d4d605ae"
      },
      "execution_count": null,
      "outputs": [
        {
          "output_type": "execute_result",
          "data": {
            "text/plain": [
              "0"
            ]
          },
          "metadata": {},
          "execution_count": 2
        }
      ]
    },
    {
      "cell_type": "markdown",
      "source": [
        "## Strings"
      ],
      "metadata": {
        "id": "Q14g_2TJMomB"
      }
    },
    {
      "cell_type": "code",
      "source": [
        "# strings can be either surrounded by a \"\" or ''\n",
        "'hello' \" world\""
      ],
      "metadata": {
        "colab": {
          "base_uri": "https://localhost:8080/",
          "height": 35
        },
        "id": "G9hDpqstMqNJ",
        "outputId": "dcc52e28-03ee-4348-e88c-fff56bcd4fab"
      },
      "execution_count": null,
      "outputs": [
        {
          "output_type": "execute_result",
          "data": {
            "text/plain": [
              "'hello'"
            ],
            "application/vnd.google.colaboratory.intrinsic+json": {
              "type": "string"
            }
          },
          "metadata": {},
          "execution_count": 5
        }
      ]
    },
    {
      "cell_type": "code",
      "source": [
        "# Practice: create some strings and use some arithmetic on them\n",
        "'my name is' + ' adrian'"
      ],
      "metadata": {
        "colab": {
          "base_uri": "https://localhost:8080/",
          "height": 35
        },
        "id": "T3ettn0EM_kV",
        "outputId": "99d81879-3ffc-4db7-976e-66e16ea3c94b"
      },
      "execution_count": null,
      "outputs": [
        {
          "output_type": "execute_result",
          "data": {
            "text/plain": [
              "'my name is adrian'"
            ],
            "application/vnd.google.colaboratory.intrinsic+json": {
              "type": "string"
            }
          },
          "metadata": {},
          "execution_count": 9
        }
      ]
    },
    {
      "cell_type": "code",
      "source": [
        "\"what is up\" - \"is\"\n",
        "\"math is\" / \"cool\"\n",
        "\"stats is\" * \"fun\"\n",
        "#as u can see, u can't use any other operand other than + on strings"
      ],
      "metadata": {
        "colab": {
          "base_uri": "https://localhost:8080/",
          "height": 193
        },
        "id": "J0SNbeJLNOCY",
        "outputId": "1e878af4-f010-40b2-d717-c0b15b2705fe"
      },
      "execution_count": null,
      "outputs": [
        {
          "output_type": "error",
          "ename": "TypeError",
          "evalue": "unsupported operand type(s) for -: 'str' and 'str'",
          "traceback": [
            "\u001b[0;31m---------------------------------------------------------------------------\u001b[0m",
            "\u001b[0;31mTypeError\u001b[0m                                 Traceback (most recent call last)",
            "\u001b[0;32m/tmp/ipython-input-2544386192.py\u001b[0m in \u001b[0;36m<cell line: 0>\u001b[0;34m()\u001b[0m\n\u001b[0;32m----> 1\u001b[0;31m \u001b[0;34m\"what is up\"\u001b[0m \u001b[0;34m-\u001b[0m \u001b[0;34m\"is\"\u001b[0m\u001b[0;34m\u001b[0m\u001b[0;34m\u001b[0m\u001b[0m\n\u001b[0m\u001b[1;32m      2\u001b[0m \u001b[0;34m\"math is\"\u001b[0m \u001b[0;34m/\u001b[0m \u001b[0;34m\"cool\"\u001b[0m\u001b[0;34m\u001b[0m\u001b[0;34m\u001b[0m\u001b[0m\n\u001b[1;32m      3\u001b[0m \u001b[0;34m\"stats is\"\u001b[0m \u001b[0;34m*\u001b[0m \u001b[0;36m2\u001b[0m\u001b[0;34m\u001b[0m\u001b[0;34m\u001b[0m\u001b[0m\n\u001b[1;32m      4\u001b[0m \u001b[0;31m#as u can see, u can't use any other operand other than + on strings\u001b[0m\u001b[0;34m\u001b[0m\u001b[0;34m\u001b[0m\u001b[0m\n",
            "\u001b[0;31mTypeError\u001b[0m: unsupported operand type(s) for -: 'str' and 'str'"
          ]
        }
      ]
    },
    {
      "cell_type": "code",
      "source": [
        "\"meow \" * 100 #but u can multiply the number of times a string can be displayed\n",
        "\n"
      ],
      "metadata": {
        "colab": {
          "base_uri": "https://localhost:8080/",
          "height": 159
        },
        "id": "t-L-2DWiNnJ6",
        "outputId": "cde8fb63-bc5b-4e90-d8b0-8475e073b989"
      },
      "execution_count": null,
      "outputs": [
        {
          "output_type": "error",
          "ename": "TypeError",
          "evalue": "can't multiply sequence by non-int of type 'str'",
          "traceback": [
            "\u001b[0;31m---------------------------------------------------------------------------\u001b[0m",
            "\u001b[0;31mTypeError\u001b[0m                                 Traceback (most recent call last)",
            "\u001b[0;32m/tmp/ipython-input-1355117788.py\u001b[0m in \u001b[0;36m<cell line: 0>\u001b[0;34m()\u001b[0m\n\u001b[1;32m      1\u001b[0m \u001b[0;34m\"meow \"\u001b[0m \u001b[0;34m*\u001b[0m \u001b[0;36m100\u001b[0m \u001b[0;31m#but u can multiply the number of times a string can be displayed\u001b[0m\u001b[0;34m\u001b[0m\u001b[0;34m\u001b[0m\u001b[0m\n\u001b[0;32m----> 2\u001b[0;31m \u001b[0;34m\"ahhh\"\u001b[0m \u001b[0;34m*\u001b[0m \u001b[0;34m\"aaaa\"\u001b[0m  \u001b[0;34m*\u001b[0m\u001b[0;36m999\u001b[0m\u001b[0;34m\u001b[0m\u001b[0;34m\u001b[0m\u001b[0m\n\u001b[0m",
            "\u001b[0;31mTypeError\u001b[0m: can't multiply sequence by non-int of type 'str'"
          ]
        }
      ]
    },
    {
      "cell_type": "code",
      "source": [
        "len(\"  a\") #spaces are counted for the length of a string"
      ],
      "metadata": {
        "colab": {
          "base_uri": "https://localhost:8080/"
        },
        "id": "rt_s6avrO604",
        "outputId": "8d301143-7e60-4c0d-ed55-fa091636ced5"
      },
      "execution_count": null,
      "outputs": [
        {
          "output_type": "execute_result",
          "data": {
            "text/plain": [
              "3"
            ]
          },
          "metadata": {},
          "execution_count": 26
        }
      ]
    },
    {
      "cell_type": "code",
      "source": [
        "# Value Types\n",
        "\n",
        "type(12) #int\n",
        "type(12.0) #float\n",
        "type(\"12\") #str\n",
        "type(3/10)\n",
        "#you dont have to declare a type like u do in C++"
      ],
      "metadata": {
        "colab": {
          "base_uri": "https://localhost:8080/"
        },
        "id": "p4ErhXPmPHlx",
        "outputId": "7bbad1a1-37d5-4bd3-ddfd-802f4270e127"
      },
      "execution_count": null,
      "outputs": [
        {
          "output_type": "execute_result",
          "data": {
            "text/plain": [
              "float"
            ]
          },
          "metadata": {},
          "execution_count": 33
        }
      ]
    },
    {
      "cell_type": "code",
      "source": [
        "# Type Errors occur when the operand (+,-,...) don't work\n",
        "\"120\" / 3 #doesnt work cus the types dont match"
      ],
      "metadata": {
        "colab": {
          "base_uri": "https://localhost:8080/",
          "height": 159
        },
        "id": "QmczG1AvQIgP",
        "outputId": "b3258b9d-5f52-4ab3-c340-29377c9a72bf"
      },
      "execution_count": null,
      "outputs": [
        {
          "output_type": "error",
          "ename": "TypeError",
          "evalue": "unsupported operand type(s) for /: 'str' and 'int'",
          "traceback": [
            "\u001b[0;31m---------------------------------------------------------------------------\u001b[0m",
            "\u001b[0;31mTypeError\u001b[0m                                 Traceback (most recent call last)",
            "\u001b[0;32m/tmp/ipython-input-947014416.py\u001b[0m in \u001b[0;36m<cell line: 0>\u001b[0;34m()\u001b[0m\n\u001b[1;32m      1\u001b[0m \u001b[0;31m# Type Errors occur when the operand (+,-,...) don't work\u001b[0m\u001b[0;34m\u001b[0m\u001b[0;34m\u001b[0m\u001b[0m\n\u001b[0;32m----> 2\u001b[0;31m \u001b[0;34m\"120\"\u001b[0m \u001b[0;34m/\u001b[0m \u001b[0;36m3\u001b[0m \u001b[0;31m#doesnt work cus the types dont match\u001b[0m\u001b[0;34m\u001b[0m\u001b[0;34m\u001b[0m\u001b[0m\n\u001b[0m",
            "\u001b[0;31mTypeError\u001b[0m: unsupported operand type(s) for /: 'str' and 'int'"
          ]
        }
      ]
    },
    {
      "cell_type": "markdown",
      "source": [
        "## Variables and Statements"
      ],
      "metadata": {
        "id": "H2hkahW1Qeb1"
      }
    },
    {
      "cell_type": "code",
      "source": [
        "x = 10\n",
        "2*x+3\n",
        "\n",
        "pi=3.14159265\n",
        "\n",
        "message = \"This is pi: \"\n",
        "\n",
        "new_pi = str(pi)\n",
        "\n",
        "message + new_pi"
      ],
      "metadata": {
        "colab": {
          "base_uri": "https://localhost:8080/",
          "height": 106
        },
        "id": "Q65thP1OQax8",
        "outputId": "7fed98f9-4f85-448e-f98f-981ce9581115"
      },
      "execution_count": null,
      "outputs": [
        {
          "output_type": "error",
          "ename": "SyntaxError",
          "evalue": "invalid syntax (ipython-input-1602530349.py, line 13)",
          "traceback": [
            "\u001b[0;36m  File \u001b[0;32m\"/tmp/ipython-input-1602530349.py\"\u001b[0;36m, line \u001b[0;32m13\u001b[0m\n\u001b[0;31m    obj! = 25\u001b[0m\n\u001b[0m       ^\u001b[0m\n\u001b[0;31mSyntaxError\u001b[0m\u001b[0;31m:\u001b[0m invalid syntax\n"
          ]
        }
      ]
    },
    {
      "cell_type": "code",
      "source": [
        "#Practice: what are the limits of naming variables?\n",
        "\n",
        "obj1 = 36\n",
        "obj!= 25\n",
        "obj* = 12\n",
        "obj& = 34\n",
        "532ads = 34\n",
        "x+y = 3 # operations dont work\n",
        "for = 342 # special python keywords such as and, for, or, class cant be used\n"
      ],
      "metadata": {
        "colab": {
          "base_uri": "https://localhost:8080/",
          "height": 106
        },
        "id": "LlM9vRHISJ1c",
        "outputId": "247d06f3-f57f-44b4-f820-6874fe5b78b0"
      },
      "execution_count": null,
      "outputs": [
        {
          "output_type": "error",
          "ename": "SyntaxError",
          "evalue": "invalid decimal literal (ipython-input-1088544849.py, line 8)",
          "traceback": [
            "\u001b[0;36m  File \u001b[0;32m\"/tmp/ipython-input-1088544849.py\"\u001b[0;36m, line \u001b[0;32m8\u001b[0m\n\u001b[0;31m    532ads = 34\u001b[0m\n\u001b[0m      ^\u001b[0m\n\u001b[0;31mSyntaxError\u001b[0m\u001b[0;31m:\u001b[0m invalid decimal literal\n"
          ]
        }
      ]
    },
    {
      "cell_type": "code",
      "source": [
        "obj1 = 37\n",
        "obj2 = str(36)\n",
        "obj3= \" is cool\"\n",
        "\n",
        "obj2 + obj3\n"
      ],
      "metadata": {
        "colab": {
          "base_uri": "https://localhost:8080/",
          "height": 106
        },
        "id": "r9nPs2HsSXwa",
        "outputId": "c20a77d8-021a-4603-f852-e4c43064ccaf"
      },
      "execution_count": null,
      "outputs": [
        {
          "output_type": "error",
          "ename": "SyntaxError",
          "evalue": "invalid syntax (ipython-input-675238499.py, line 6)",
          "traceback": [
            "\u001b[0;36m  File \u001b[0;32m\"/tmp/ipython-input-675238499.py\"\u001b[0;36m, line \u001b[0;32m6\u001b[0m\n\u001b[0;31m    obj% = 432\u001b[0m\n\u001b[0m         ^\u001b[0m\n\u001b[0;31mSyntaxError\u001b[0m\u001b[0;31m:\u001b[0m invalid syntax\n"
          ]
        }
      ]
    },
    {
      "cell_type": "markdown",
      "source": [
        "To put a code block on what is displayed as text, we use 3 back quotes ' like so:\n",
        "```\n",
        "# This is formatted as code\n",
        "x = 3\n",
        "y=2\n",
        "y+3\n",
        "```\n",
        "\n",
        "\n",
        "\n"
      ],
      "metadata": {
        "id": "5vm-ieEMURfu"
      }
    },
    {
      "cell_type": "code",
      "source": [
        "# Importing Libraries/Modules\n",
        "import math\n",
        "\n",
        "math.pi # a defined variable from math library\n",
        "math.pow(2,5) # look at description while typing arguments to see how to enter them\n",
        "math.factorial(10)\n",
        "math.gcd(10,2)\n",
        "math.sqrt(10)\n",
        "math.fmod(10,4)\n",
        "math.ceil(28.222)"
      ],
      "metadata": {
        "colab": {
          "base_uri": "https://localhost:8080/"
        },
        "id": "XITrl6bLUlvg",
        "outputId": "6b75fff2-efcf-413d-a68e-c11e8c7326ca"
      },
      "execution_count": null,
      "outputs": [
        {
          "output_type": "execute_result",
          "data": {
            "text/plain": [
              "29"
            ]
          },
          "metadata": {},
          "execution_count": 88
        }
      ]
    },
    {
      "cell_type": "code",
      "source": [
        "# Scientific/math modules(libraries)\n",
        "import numpy as np #instead of calling functions with numpy.func, we can now call it by np.func\n",
        "#numpy stands for numerical python\n",
        "import sympy as sym # symbolic python"
      ],
      "metadata": {
        "id": "aI-pcMpRWpSF"
      },
      "execution_count": null,
      "outputs": []
    },
    {
      "cell_type": "code",
      "source": [
        "# Importing a submodule from a module\n",
        "from sympy import symbols # since modules like sympy can have modules embedded within them, we can choose one from the many it has\n",
        "\n",
        "y = symbols(\"y\") # makes the string appear as LaTeX\n",
        "z = symbols(\"z\")\n",
        "\n",
        "y+2*z # outputs as LaTeX"
      ],
      "metadata": {
        "colab": {
          "base_uri": "https://localhost:8080/",
          "height": 38
        },
        "id": "YHLIfatFXmJc",
        "outputId": "67512a70-ce05-47cf-e1ae-bb4fbb12a267"
      },
      "execution_count": null,
      "outputs": [
        {
          "output_type": "execute_result",
          "data": {
            "text/plain": [
              "y + 2*z"
            ],
            "text/latex": "$\\displaystyle y + 2 z$"
          },
          "metadata": {},
          "execution_count": 95
        }
      ]
    },
    {
      "cell_type": "code",
      "source": [
        "sym.expand((y+2)**2) #expands (y+2)^2 where ** is the same as ^\n",
        "sym.diff(sym.sin(y),y) #differentiates sin(y) with respect to y"
      ],
      "metadata": {
        "colab": {
          "base_uri": "https://localhost:8080/"
        },
        "id": "nm6P7EJnYJCc",
        "outputId": "ddc6f595-872b-4333-85eb-29354c68085f"
      },
      "execution_count": null,
      "outputs": [
        {
          "output_type": "execute_result",
          "data": {
            "text/plain": [
              "{1: 1, 4: 1}"
            ]
          },
          "metadata": {},
          "execution_count": 104
        }
      ]
    },
    {
      "cell_type": "code",
      "source": [
        "# Matrices\n",
        "matrix_A = sym.Matrix([[1,0],[0,4]]) # creates a matrix A with the first row being 1,0 and second row being 0,4\n",
        "\n",
        "matrix_A.eigenvals() # this lists the multiplicities of the eigenvalues in matrix A\n",
        "matrix_A.det() #gets the determinant"
      ],
      "metadata": {
        "colab": {
          "base_uri": "https://localhost:8080/",
          "height": 37
        },
        "id": "Yxej8s63aHXZ",
        "outputId": "3fba563f-ad0a-4670-c74f-2cdbf9e0e4ac"
      },
      "execution_count": null,
      "outputs": [
        {
          "output_type": "execute_result",
          "data": {
            "text/plain": [
              "4"
            ],
            "text/latex": "$\\displaystyle 4$"
          },
          "metadata": {},
          "execution_count": 106
        }
      ]
    },
    {
      "cell_type": "code",
      "source": [
        "# Solving for y in an equation\n",
        "sym.solve(y**2 -2 * sym.sin(z),z) #solves for y in the equation: y^2 -2sin(z)=0 (with respect to z?)"
      ],
      "metadata": {
        "colab": {
          "base_uri": "https://localhost:8080/"
        },
        "id": "s7PlYzKbaN0h",
        "outputId": "61d5e073-1eef-4653-a443-e30cdfe5f69c"
      },
      "execution_count": null,
      "outputs": [
        {
          "output_type": "execute_result",
          "data": {
            "text/plain": [
              "[pi - asin(y**2/2), asin(y**2/2)]"
            ]
          },
          "metadata": {},
          "execution_count": 107
        }
      ]
    },
    {
      "cell_type": "code",
      "source": [
        ","
      ],
      "metadata": {
        "id": "fDPLCm_Ea-rd"
      },
      "execution_count": null,
      "outputs": []
    },
    {
      "cell_type": "code",
      "source": [
        "# Print statements\n",
        "print(x)\n",
        "mes = \"!\"\n",
        "print(\"Hello World\", mes) #the comma adds a space for you"
      ],
      "metadata": {
        "colab": {
          "base_uri": "https://localhost:8080/"
        },
        "id": "uqHrXjyoatta",
        "outputId": "0a9b2049-f884-4389-c393-7df8fc9bd6c1"
      },
      "execution_count": null,
      "outputs": [
        {
          "output_type": "stream",
          "name": "stdout",
          "text": [
            "10\n",
            "Hello World!\n"
          ]
        }
      ]
    }
  ]
}